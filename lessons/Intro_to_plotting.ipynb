{
 "cells": [
  {
   "cell_type": "code",
   "execution_count": null,
   "metadata": {
    "ExecuteTime": {
     "end_time": "2020-09-25T15:03:16.058985Z",
     "start_time": "2020-09-25T15:03:16.055975Z"
    }
   },
   "outputs": [],
   "source": [
    "%matplotlib notebook\n",
    "import numpy as np\n",
    "import matplotlib.pyplot as plt"
   ]
  },
  {
   "cell_type": "code",
   "execution_count": null,
   "metadata": {
    "ExecuteTime": {
     "end_time": "2020-09-25T15:03:16.438487Z",
     "start_time": "2020-09-25T15:03:16.384314Z"
    }
   },
   "outputs": [],
   "source": [
    "# Read data file\n",
    "filename = 'v-divider-data.csv'\n",
    "data = np.loadtxt(filename, delimiter=',')\n",
    "header = np.loadtxt(filename, max_rows=1, delimiter=',', comments='!', dtype='str')\n",
    "header[0] = header[0].strip('#')"
   ]
  },
  {
   "cell_type": "code",
   "execution_count": null,
   "metadata": {
    "ExecuteTime": {
     "end_time": "2020-09-25T15:31:33.491304Z",
     "start_time": "2020-09-25T15:31:33.489273Z"
    }
   },
   "outputs": [],
   "source": [
    "# Plot Channel 1 vs time"
   ]
  },
  {
   "cell_type": "code",
   "execution_count": null,
   "metadata": {
    "ExecuteTime": {
     "end_time": "2020-09-25T15:11:39.423557Z",
     "start_time": "2020-09-25T15:11:39.421843Z"
    }
   },
   "outputs": [],
   "source": [
    "# Plot Channel 2 vs time"
   ]
  },
  {
   "cell_type": "code",
   "execution_count": null,
   "metadata": {
    "ExecuteTime": {
     "end_time": "2020-09-25T15:11:48.785510Z",
     "start_time": "2020-09-25T15:11:48.783873Z"
    }
   },
   "outputs": [],
   "source": [
    "# Plot Channel 1 and Channel 2 together"
   ]
  },
  {
   "cell_type": "code",
   "execution_count": null,
   "metadata": {
    "ExecuteTime": {
     "end_time": "2020-09-25T15:12:00.347989Z",
     "start_time": "2020-09-25T15:12:00.346117Z"
    }
   },
   "outputs": [],
   "source": [
    "# Plot \"Theory\""
   ]
  },
  {
   "cell_type": "code",
   "execution_count": null,
   "metadata": {
    "ExecuteTime": {
     "end_time": "2020-09-25T15:21:50.762488Z",
     "start_time": "2020-09-25T15:21:50.760640Z"
    }
   },
   "outputs": [],
   "source": [
    "# Plot Channel 2 minus Theory... including subplots"
   ]
  },
  {
   "cell_type": "code",
   "execution_count": null,
   "metadata": {
    "ExecuteTime": {
     "end_time": "2020-09-25T15:21:35.291978Z",
     "start_time": "2020-09-25T15:21:35.290090Z"
    }
   },
   "outputs": [],
   "source": [
    "# How much noise is there?"
   ]
  },
  {
   "cell_type": "code",
   "execution_count": null,
   "metadata": {},
   "outputs": [],
   "source": [
    "# Image plotting"
   ]
  }
 ],
 "metadata": {
  "kernelspec": {
   "display_name": "phys330",
   "language": "python",
   "name": "phys330"
  },
  "language_info": {
   "codemirror_mode": {
    "name": "ipython",
    "version": 3
   },
   "file_extension": ".py",
   "mimetype": "text/x-python",
   "name": "python",
   "nbconvert_exporter": "python",
   "pygments_lexer": "ipython3",
   "version": "3.8.5"
  }
 },
 "nbformat": 4,
 "nbformat_minor": 4
}
