{
 "cells": [
  {
   "cell_type": "code",
   "execution_count": null,
   "metadata": {
    "ExecuteTime": {
     "end_time": "2020-09-25T17:09:52.236541Z",
     "start_time": "2020-09-25T17:09:51.627323Z"
    }
   },
   "outputs": [],
   "source": [
    "%matplotlib notebook\n",
    "import numpy as np\n",
    "import matplotlib.pyplot as plt"
   ]
  },
  {
   "cell_type": "code",
   "execution_count": null,
   "metadata": {
    "ExecuteTime": {
     "end_time": "2020-09-25T17:13:34.116578Z",
     "start_time": "2020-09-25T17:13:34.059926Z"
    }
   },
   "outputs": [],
   "source": [
    "# Read data file\n",
    "filename = 'v-divider-data.csv'\n",
    "data = np.loadtxt(filename, delimiter=',')\n",
    "header = np.loadtxt(filename, max_rows=1, delimiter=',', comments='!', dtype='str')\n",
    "header[0] = header[0].strip('#')"
   ]
  },
  {
   "cell_type": "code",
   "execution_count": null,
   "metadata": {
    "ExecuteTime": {
     "end_time": "2020-09-25T17:29:37.438035Z",
     "start_time": "2020-09-25T17:29:37.410523Z"
    }
   },
   "outputs": [],
   "source": [
    "# Plot Channel 1 vs time\n",
    "plt.figure(figsize=(8, 4))\n",
    "plt.plot(data[:, 0], data[:, 1], 'r', label='foo')\n",
    "plt.xlabel(header[0])\n",
    "plt.ylabel(header[1])\n",
    "plt.legend()"
   ]
  },
  {
   "cell_type": "code",
   "execution_count": null,
   "metadata": {
    "ExecuteTime": {
     "end_time": "2020-09-25T17:27:11.659710Z",
     "start_time": "2020-09-25T17:27:11.653917Z"
    }
   },
   "outputs": [],
   "source": [
    "plt.close('all')"
   ]
  },
  {
   "cell_type": "code",
   "execution_count": null,
   "metadata": {
    "ExecuteTime": {
     "end_time": "2020-09-25T17:31:22.632278Z",
     "start_time": "2020-09-25T17:31:22.602891Z"
    }
   },
   "outputs": [],
   "source": [
    "# Plot Channel 2 vs time\n",
    "plt.figure()\n",
    "plt.plot(data[:, 0], data[:, 2])"
   ]
  },
  {
   "cell_type": "code",
   "execution_count": null,
   "metadata": {
    "ExecuteTime": {
     "end_time": "2020-09-25T17:34:10.645198Z",
     "start_time": "2020-09-25T17:34:10.614884Z"
    }
   },
   "outputs": [],
   "source": [
    "# Plot Channel 1 and Channel 2 together\n",
    "plt.figure(figsize=(8, 4))\n",
    "plt.plot(data[:, 0], data[:, 1], label='Ch1')\n",
    "plt.plot(data[:, 0], data[:, 2], label='Ch2')\n",
    "plt.xlabel(header[0])\n",
    "plt.ylabel('Signal Level [V]')\n",
    "plt.xlim([-1e-5, 1e-5])\n",
    "plt.legend()"
   ]
  },
  {
   "cell_type": "code",
   "execution_count": null,
   "metadata": {
    "ExecuteTime": {
     "end_time": "2020-09-25T17:47:46.036625Z",
     "start_time": "2020-09-25T17:47:46.033277Z"
    }
   },
   "outputs": [],
   "source": [
    "# Plot \"Theory\"\n",
    "amp = 0.502  # V\n",
    "freq = 1 / (2e-5)  # Hz\n",
    "time = data[:, 0]\n",
    "theory = amp * np.sin(2 * np.pi * freq * time)"
   ]
  },
  {
   "cell_type": "code",
   "execution_count": null,
   "metadata": {
    "ExecuteTime": {
     "end_time": "2020-09-25T17:47:46.331488Z",
     "start_time": "2020-09-25T17:47:46.213015Z"
    }
   },
   "outputs": [],
   "source": [
    "plt.figure()\n",
    "plt.plot(time[1:], data[1:, 2], label='Measurement')\n",
    "plt.plot(time[1:], theory[1:], label='Theory')\n",
    "plt.xlabel(header[0])\n",
    "plt.ylabel('output [V]')\n",
    "plt.legend()"
   ]
  },
  {
   "cell_type": "code",
   "execution_count": null,
   "metadata": {
    "ExecuteTime": {
     "end_time": "2020-09-25T17:48:37.831509Z",
     "start_time": "2020-09-25T17:48:37.804182Z"
    }
   },
   "outputs": [],
   "source": [
    "# Plot Channel 2 minus Theory... including subplots\n",
    "plt.figure()\n",
    "plt.plot(time[1:], data[1:, 2] - theory[1:])"
   ]
  },
  {
   "cell_type": "code",
   "execution_count": null,
   "metadata": {
    "ExecuteTime": {
     "end_time": "2020-09-25T15:21:35.291978Z",
     "start_time": "2020-09-25T15:21:35.290090Z"
    }
   },
   "outputs": [],
   "source": [
    "# How much noise is there?"
   ]
  },
  {
   "cell_type": "code",
   "execution_count": null,
   "metadata": {},
   "outputs": [],
   "source": [
    "# Histogram the noise?"
   ]
  },
  {
   "cell_type": "code",
   "execution_count": null,
   "metadata": {},
   "outputs": [],
   "source": [
    "# Image plotting"
   ]
  }
 ],
 "metadata": {
  "kernelspec": {
   "display_name": "phys330",
   "language": "python",
   "name": "phys330"
  },
  "language_info": {
   "codemirror_mode": {
    "name": "ipython",
    "version": 3
   },
   "file_extension": ".py",
   "mimetype": "text/x-python",
   "name": "python",
   "nbconvert_exporter": "python",
   "pygments_lexer": "ipython3",
   "version": "3.8.5"
  }
 },
 "nbformat": 4,
 "nbformat_minor": 4
}
